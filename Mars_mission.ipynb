{
 "cells": [
  {
   "cell_type": "code",
   "execution_count": 10,
   "metadata": {},
   "outputs": [],
   "source": [
    "from splinter import Browser\n",
    "from bs4 import BeautifulSoup # as soup\n",
    "import pandas as pd\n",
    "import datetime as dt\n",
    "import time"
   ]
  },
  {
   "cell_type": "code",
   "execution_count": 13,
   "metadata": {},
   "outputs": [
    {
     "data": {
      "text/plain": [
       "{'title': 'Mars Now',\n",
       " 'paragraph': 'Mission team members are participating in a virtual teleconference to discuss milestones achieved so far since the Feb. 18 landing and those to come.',\n",
       " 'featured_img': 'https://d2pn8kiwq2w21t.cloudfront.net/images/jpegPIA24453.width-1024.jpg',\n",
       " 'table_headers': ['Equatorial Diameter:',\n",
       "  'Polar Diameter:',\n",
       "  'Mass:',\n",
       "  'Moons:',\n",
       "  'Orbit Distance:',\n",
       "  'Orbit Period:',\n",
       "  'Surface Temperature: ',\n",
       "  'First Record:',\n",
       "  'Recorded By:'],\n",
       " 'table_content': ['6,792 km',\n",
       "  '6,752 km',\n",
       "  '6.39 × 10^23 kg (0.11 Earths)',\n",
       "  '2 (Phobos & Deimos)',\n",
       "  '227,943,824 km (1.38 AU)',\n",
       "  '687 days (1.9 years)',\n",
       "  '-87 to -5 °C',\n",
       "  '2nd millennium BC',\n",
       "  'Egyptian astronomers'],\n",
       " 'hemisphere_image_urls': [{'img_url': 'https://astropedia.astastrogeology.usgs.gov/download/Mars/Viking/cerberus_enhanced.tif/full.jpg',\n",
       "   'title': 'Cerberus_ Hemisphere'},\n",
       "  {'img_url': 'https://astropedia.astastrogeology.usgs.gov/download/Mars/Viking/schiaparelli_enhanced.tif/full.jpg',\n",
       "   'title': 'Schiaparelli_ Hemisphere'},\n",
       "  {'img_url': 'https://astropedia.astastrogeology.usgs.gov/download/Mars/Viking/syrtis_major_enhanced.tif/full.jpg',\n",
       "   'title': 'Syrtis_major_ Hemisphere'},\n",
       "  {'img_url': 'https://astropedia.astastrogeology.usgs.gov/download/Mars/Viking/valles_marineris_enhanced.tif/full.jpg',\n",
       "   'title': 'Valles_marineris_ Hemisphere'}]}"
      ]
     },
     "execution_count": 13,
     "metadata": {},
     "output_type": "execute_result"
    }
   ],
   "source": [
    "def init_browser():\n",
    "    # @NOTE: Replace the path with your actual path to the chromedriver\n",
    "    executable_path = {\"executable_path\": \"chromedriver.exe\"}\n",
    "    return Browser(\"chrome\", **executable_path, headless=False)\n",
    "\n",
    "\n",
    "def get_soup(browser, url):\n",
    "    browser.visit(url)\n",
    "    time.sleep(1)\n",
    "    html= browser.html\n",
    "    soup = BeautifulSoup(html, \"html.parser\")\n",
    "    return soup\n",
    "\n",
    "def scrape():\n",
    "    \n",
    "    browser = init_browser()\n",
    "    listings = {}\n",
    "\n",
    "    url = \"https://mars.nasa.gov/news/\"\n",
    "\n",
    "    browser.visit(url)\n",
    "    time.sleep(1)\n",
    "\n",
    "    html = browser.html\n",
    "    \n",
    "    \n",
    "    soup = BeautifulSoup(html, \"html.parser\")\n",
    "\n",
    "    listings[\"title\"] = soup.find(\"div\", class_=\"content_title\").get_text().strip()\n",
    "    listings[\"paragraph\"] = soup.find(\"div\", class_=\"article_teaser_body\").get_text().strip()\n",
    "    \n",
    "    url = \"https://www.jpl.nasa.gov/images?search=&category=Mars\"\n",
    "    browser.visit(url)\n",
    "    time.sleep(1)\n",
    "    html = browser.html\n",
    "    soup = BeautifulSoup(html, \"html.parser\")\n",
    "    \n",
    "    next_link = \"https://www.jpl.nasa.gov\" + soup.find(\"a\",class_=\"group cursor-pointer block\").get(\"href\").strip()\n",
    "    soup= get_soup(browser,next_link)\n",
    "    \n",
    "    listings[\"featured_img\"] = soup.find(\"img\", class_=\"BaseImage\").get('src').strip()\n",
    "    \n",
    "    \n",
    "    facts_url = \"https://space-facts.com/mars/\"\n",
    "    soup= get_soup(browser,facts_url)\n",
    "    table_content = soup.find(\"table\", id=\"tablepress-p-mars-no-2\")\n",
    "    \n",
    "    \n",
    "    table_headers = []\n",
    "    table_contentlist = []\n",
    "    first = True\n",
    "    \n",
    "    for childTd in table_content.findAll(\"td\"):\n",
    "        if first == True:\n",
    "            table_headers.append(childTd.text)\n",
    "            first = False\n",
    "        else: \n",
    "            table_contentlist.append(childTd.text)\n",
    "            first = True\n",
    "    listings[\"table_headers\"] = table_headers\n",
    "    listings[\"table_content\"] = table_contentlist\n",
    "    \n",
    "    next_link = \"https://astrogeology.usgs.gov/search/results?q=hemisphere+enhanced&k1=target&v1=Mars\"\n",
    "    soup = get_soup(browser, next_link)\n",
    "    imgLinks = soup.findAll(\"a\" , class_ = \"itemLink product-item\")\n",
    "    i= 0\n",
    "    hemisphere_image_urls= []\n",
    "    for imgl in imgLinks:\n",
    "        if i % 2 ==1:\n",
    "            i += 1\n",
    "            continue\n",
    "        i += 1\n",
    "        img_url = \"https://astropedia.astastrogeology.usgs.gov\" + imgl.get(\"href\").strip().replace(\"/search/map\", \"/download\") + \".tif/full.jpg\"\n",
    "        title = imgl.get(\"href\").strip().replace(\"enhanced\",\"\").split(\"/\")[-1].capitalize() + \" Hemisphere\"\n",
    "        hemisphere_image_urls.append({\"img_url\":img_url,\"title\":title})\n",
    "    \n",
    "    \n",
    "    listings[\"hemisphere_image_urls\"] = hemisphere_image_urls\n",
    "    browser.quit()\n",
    "    return listings\n",
    "\n",
    "#scrape()"
   ]
  },
  {
   "cell_type": "code",
   "execution_count": 22,
   "metadata": {},
   "outputs": [
    {
     "name": "stdout",
     "output_type": "stream",
     "text": [
      "{'headline': 'Modern, Renovated Interiors, Pantry, Playground', 'price': '$1,055', 'hood': ' (Raleigh)'}\n"
     ]
    }
   ],
   "source": [
    "print(scrape())"
   ]
  },
  {
   "cell_type": "code",
   "execution_count": null,
   "metadata": {},
   "outputs": [],
   "source": []
  }
 ],
 "metadata": {
  "kernelspec": {
   "display_name": "Python 3",
   "language": "python",
   "name": "python3"
  },
  "language_info": {
   "codemirror_mode": {
    "name": "ipython",
    "version": 3
   },
   "file_extension": ".py",
   "mimetype": "text/x-python",
   "name": "python",
   "nbconvert_exporter": "python",
   "pygments_lexer": "ipython3",
   "version": "3.8.3"
  }
 },
 "nbformat": 4,
 "nbformat_minor": 4
}
